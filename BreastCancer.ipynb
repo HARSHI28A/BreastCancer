{
    "nbformat_minor": 1, 
    "cells": [
        {
            "source": "import numpy as np\nimport matplotlib.pyplot as plt\nimport types\nimport pandas as pd\nfrom botocore.client import Config\nimport ibm_boto3\n\ndef __iter__(self): return 0\n\n# @hidden_cell\n# The following code accesses a file in your IBM Cloud Object Storage. It includes your credentials.\n# You might want to remove those credentials before you share the notebook.\nclient_dbc62dd9922e4effb954b1390e488e85 = ibm_boto3.client(service_name='s3',\n    ibm_api_key_id='diXalxKhpiG1JkgiQZB0vCKYyziiCqVS2NfAKBO48uc7',\n    ibm_auth_endpoint=\"https://iam.ng.bluemix.net/oidc/token\",\n    config=Config(signature_version='oauth'),\n    endpoint_url='https://s3-api.us-geo.objectstorage.service.networklayer.com')\n\nbody = client_dbc62dd9922e4effb954b1390e488e85.get_object(Bucket='cloudifyeverythingbreastcancer-donotdelete-pr-fr95xo957uhklr',Key='breast-cancer-wisconsin.csv')['Body']\n# add missing __iter__ method, so pandas accepts body as file-like object\nif not hasattr(body, \"__iter__\"): body.__iter__ = types.MethodType( __iter__, body )\n\ndataset = pd.read_csv(body)\n\nX = dataset.iloc[:, 1:31].values\nY = dataset.iloc[:, 31].values\n\ndataset.head()\n\nprint(\"Cancer data set dimensions : {}\".format(dataset.shape))\n\ndataset.groupby('diagnosis').size()\n\n#Visualization of data\ndataset.groupby('diagnosis').hist(figsize=(12, 12))\n\ndataset.isnull().sum()\ndataset.isna().sum()\n\ndataframe = pd.DataFrame(Y)\n#Encoding categorical data values \nfrom sklearn.preprocessing import LabelEncoder\nlabelencoder_Y = LabelEncoder()\nY = labelencoder_Y.fit_transform(Y)\n\n\n# Splitting the dataset into the Training set and Test set\nfrom sklearn.model_selection import train_test_split\nX_train, X_test, Y_train, Y_test = train_test_split(X, Y, test_size = 0.25, random_state = 0)\n\n\n#Feature Scaling\nfrom sklearn.preprocessing import StandardScaler\nsc = StandardScaler()\nX_train = sc.fit_transform(X_train)\nX_test = sc.transform(X_test)\n\n\n#Fitting the Logistic Regression Algorithm to the Training Set\nfrom sklearn.linear_model import LogisticRegression\nclassifier = LogisticRegression(random_state = 0)\nclassifier.fit(X_train, Y_train)\n#95.8 Acuracy\n\n#Fitting K-NN Algorithm\nfrom sklearn.neighbors import KNeighborsClassifier\nclassifier = KNeighborsClassifier(n_neighbors = 5, metric = 'minkowski', p = 2)\nclassifier.fit(X_train, Y_train)\n#95.1 Acuracy\n\n#Fitting SVM\nfrom sklearn.svm import SVC\nclassifier = SVC(kernel = 'linear', random_state = 0)\nclassifier.fit(X_train, Y_train) \n#97.2 Acuracy\n\n#Fitting K-SVM\nfrom sklearn.svm import SVC\nclassifier = SVC(kernel = 'rbf', random_state = 0)\nclassifier.fit(X_train, Y_train)\n#96.5 Acuracy\n\n#Fitting Naive_Bayes\nfrom sklearn.naive_bayes import GaussianNB\nclassifier = GaussianNB()\nclassifier.fit(X_train, Y_train)\n#91.6 Acuracy\n\n#Fitting Decision Tree Algorithm\nfrom sklearn.tree import DecisionTreeClassifier\nclassifier = DecisionTreeClassifier(criterion = 'entropy', random_state = 0)\nclassifier.fit(X_train, Y_train)\n#95.8 Acuracy\n\n#Fitting Random Forest Classification Algorithm\nfrom sklearn.ensemble import RandomForestClassifier\nclassifier = RandomForestClassifier(n_estimators = 10, criterion = 'entropy', random_state = 0)\nclassifier.fit(X_train, Y_train)\n#98.6 Acuracy\n\n#predicting the Test set results\nY_pred = classifier.predict(X_test)\n\n#Creating the confusion Matrix\nfrom sklearn.metrics import confusion_matrix\ncm = confusion_matrix(Y_test, Y_pred)\nc = print(cm[0, 0] + cm[1, 1])\n", 
            "cell_type": "raw", 
            "metadata": {}
        }, 
        {
            "execution_count": null, 
            "cell_type": "code", 
            "metadata": {}, 
            "outputs": [], 
            "source": ""
        }, 
        {
            "execution_count": null, 
            "cell_type": "code", 
            "metadata": {}, 
            "outputs": [], 
            "source": ""
        }, 
        {
            "source": "", 
            "cell_type": "raw", 
            "metadata": {}
        }, 
        {
            "execution_count": null, 
            "cell_type": "code", 
            "metadata": {}, 
            "outputs": [], 
            "source": ""
        }
    ], 
    "metadata": {
        "kernelspec": {
            "display_name": "Python 3.6", 
            "name": "python3", 
            "language": "python"
        }, 
        "language_info": {
            "mimetype": "text/x-python", 
            "nbconvert_exporter": "python", 
            "version": "3.6.8", 
            "name": "python", 
            "file_extension": ".py", 
            "pygments_lexer": "ipython3", 
            "codemirror_mode": {
                "version": 3, 
                "name": "ipython"
            }
        }
    }, 
    "nbformat": 4
}